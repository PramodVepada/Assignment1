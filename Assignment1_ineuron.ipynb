{
  "nbformat": 4,
  "nbformat_minor": 0,
  "metadata": {
    "colab": {
      "provenance": [],
      "authorship_tag": "ABX9TyMZS4h1SxBwa5CWhd0QGy46",
      "include_colab_link": true
    },
    "kernelspec": {
      "name": "python3",
      "display_name": "Python 3"
    },
    "language_info": {
      "name": "python"
    }
  },
  "cells": [
    {
      "cell_type": "markdown",
      "metadata": {
        "id": "view-in-github",
        "colab_type": "text"
      },
      "source": [
        "<a href=\"https://colab.research.google.com/github/PramodVepada/Assignment1/blob/master/Assignment1_ineuron.ipynb\" target=\"_parent\"><img src=\"https://colab.research.google.com/assets/colab-badge.svg\" alt=\"Open In Colab\"/></a>"
      ]
    },
    {
      "cell_type": "markdown",
      "source": [
        "**1. In the below elements which of them are values or an expression? eg:- values can be integer or string and expressions will be mathematical operators.**"
      ],
      "metadata": {
        "id": "K7COaXSI--dt"
      }
    },
    {
      "cell_type": "markdown",
      "source": [
        "\n",
        "> \n",
        "![Capture.JPG](data:image/jpeg;base64,/9j/4AAQSkZJRgABAQEAkACQAAD/4RD0RXhpZgAATU0AKgAAAAgABAE7AAIAAAAOAAAISodpAAQAAAABAAAIWJydAAEAAAAcAAAQ0OocAAcAAAgMAAAAPgAAAAAc6gAAAAgAAAAAAAAAAAAAAAAAAAAAAAAAAAAAAAAAAAAAAAAAAAAAAAAAAAAAAAAAAAAAAAAAAAAAAAAAAAAAAAAAAAAAAAAAAAAAAAAAAAAAAAAAAAAAAAAAAAAAAAAAAAAAAAAAAAAAAAAAAAAAAAAAAAAAAAAAAAAAAAAAAAAAAAAAAAAAAAAAAAAAAAAAAAAAAAAAAAAAAAAAAAAAAAAAAAAAAAAAAAAAAAAAAAAAAAAAAAAAAAAAAAAAAAAAAAAAAAAAAAAAAAAAAAAAAAAAAAAAAAAAAAAAAAAAAAAAAAAAAAAAAAAAAAAAAAAAAAAAAAAAAAAAAAAAAAAAAAAAAAAAAAAAAAAAAAAAAAAAAAAAAAAAAAAAAAAAAAAAAAAAAAAAAAAAAAAAAAAAAAAAAAAAAAAAAAAAAAAAAAAAAAAAAAAAAAAAAAAAAAAAAAAAAAAAAAAAAAAAAAAAAAAAAAAAAAAAAAAAAAAAAAAAAAAAAAAAAAAAAAAAAAAAAAAAAAAAAAAAAAAAAAAAAAAAAAAAAAAAAAAAAAAAAAAAAAAAAAAAAAAAAAAAAAAAAAAAAAAAAAAAAAAAAAAAAAAAAAAAAAAAAAAAAAAAAAAAAAAAAAAAAAAAAAAAAAAAAAAAAAAAAAAAAAAAAAAAAAAAAAAAAAAAAAAAAAAAAAAAAAAAAAAAAAAAAAAAAAAAAAAAAAAAAAAAAAAAAAAAAAAAAAAAAAAAAAAAAAAAAAAAAAAAAAAAAAAAAAAAAAAAAAAAAAAAAAAAAAAAAAAAAAAAAAAAAAAAAAAAAAAAAAAAAAAAAAAAAAAAAAAAAAAAAAAAAAAAAAAAAAAAAAAAAAAAAAAAAAAAAAAAAAAAAAAAAAAAAAAAAAAAAAAAAAAAAAAAAAAAAAAAAAAAAAAAAAAAAAAAAAAAAAAAAAAAAAAAAAAAAAAAAAAAAAAAAAAAAAAAAAAAAAAAAAAAAAAAAAAAAAAAAAAAAAAAAAAAAAAAAAAAAAAAAAAAAAAAAAAAAAAAAAAAAAAAAAAAAAAAAAAAAAAAAAAAAAAAAAAAAAAAAAAAAAAAAAAAAAAAAAAAAAAAAAAAAAAAAAAAAAAAAAAAAAAAAAAAAAAAAAAAAAAAAAAAAAAAAAAAAAAAAAAAAAAAAAAAAAAAAAAAAAAAAAAAAAAAAAAAAAAAAAAAAAAAAAAAAAAAAAAAAAAAAAAAAAAAAAAAAAAAAAAAAAAAAAAAAAAAAAAAAAAAAAAAAAAAAAAAAAAAAAAAAAAAAAAAAAAAAAAAAAAAAAAAAAAAAAAAAAAAAAAAAAAAAAAAAAAAAAAAAAAAAAAAAAAAAAAAAAAAAAAAAAAAAAAAAAAAAAAAAAAAAAAAAAAAAAAAAAAAAAAAAAAAAAAAAAAAAAAAAAAAAAAAAAAAAAAAAAAAAAAAAAAAAAAAAAAAAAAAAAAAAAAAAAAAAAAAAAAAAAAAAAAAAAAAAAAAAAAAAAAAAAAAAAAAAAAAAAAAAAAAAAAAAAAAAAAAAAAAAAAAAAAAAAAAAAAAAAAAAAAAAAAAAAAAAAAAAAAAAAAAAAAAAAAAAAAAAAAAAAAAAAAAAAAAAAAAAAAAAAAAAAAAAAAAAAAAAAAAAAAAAAAAAAAAAAAAAAAAAAAAAAAAAAAAAAAAAAAAAAAAAAAAAAAAAAAAAAAAAAAAAAAAAAAAAAAAAAAAAAAAAAAAAAAAAAAAAAAAAAAAAAAAAAAAAAAAAAAAAAAAAAAAAAAAAAAAAAAAAAAAAAAAAAAAAAAAAAAAAAAAAAAAAAAAAAAAAAAAAAAAAAAAAAAAAAAAAAAAAAAAAAAAAAAAAAAAAAAAAAAAAAAAAAAAAAAAAAAAAAAAAAAAAAAAAAAAAAAAAAAAAAAAAAAAAAAAAAAAAAAAAAAAAAAAAAAAAAAAAAAAAAAAAAAAAAAAAAAAAAAAAAAAAAAAAAAAAAAAAAAAAAAAAAAAAAAAAAAAAAAAAAAAAAAAAAAAAAAAAAAAAAAAAAAAAAAAAAAAAAAAAAAAAAAAAAAAAAAAAAAAAAAAAAAAAAAAAAAAAAAAAAAAAAAAAAAAAAAAAAAAAAAAAAAAAAAAAAAAAAAAAAAAAAAAAAAAAAAAAAAAAAAAAAAAAAAAAAAAAAAAAAAAAAAAAAAAAAAAAAAAAAAAAAAAAAAAAAAAAAAAAAAAAAAAAAAAAAAAAAAAAAAAAAAAAAAAAAAAAAAAAAAAAAAAAAAAAAAAAAAAAAAAAAAAAAAAAAAAAAAAAAAAAAAAAAAAAAAAAAAAAAAAAAAAAAAAAAAAAAAAAAAAAAAAAAAAAAAAAAAAAAAAAAAAAAAAAAAAAAAAAAAAAAAAAAAAAAAAAAAAAAAAAAAAAAAAAAAAAAAAAAAAAAAAAAAAAAAAAAAAAAAAAAAAAAAAAAAAAAAAAAAAAAAAAAAAAAAAAAAAAAAAAAAAAAAAAAAAAAAAAAAAAAAAAAAAAAAAAAAAAAAAAAAAAAAAAAAAAAAAAAAAAAAAAAAAAAAAAAAAAAAAAAAAAAAAAAAAAAAAAAAAAAAAAAAAAAAAAAAAAAAAAAAAAAAAAAAAAAAAAAAAAAAAAAAAAAAAAAAAAAAAAAAAAAAAAAAAAAAAAAAAAAAAAAAAAAAAAAAAAAAAAAAAAAAAAAAAAAAAAAAAAAAAAAAAAAAAAAAAAAAAAAAAAAAAAAAAAAAAAAAAAAAAAAAAAAAAAAAAAAAAAAAAAAAAAHByYW1vZCB2ZXBhZGEAAAWQAwACAAAAFAAAEKaQBAACAAAAFAAAELqSkQACAAAAAzc1AACSkgACAAAAAzc1AADqHAAHAAAIDAAACJoAAAAAHOoAAAAIAAAAAAAAAAAAAAAAAAAAAAAAAAAAAAAAAAAAAAAAAAAAAAAAAAAAAAAAAAAAAAAAAAAAAAAAAAAAAAAAAAAAAAAAAAAAAAAAAAAAAAAAAAAAAAAAAAAAAAAAAAAAAAAAAAAAAAAAAAAAAAAAAAAAAAAAAAAAAAAAAAAAAAAAAAAAAAAAAAAAAAAAAAAAAAAAAAAAAAAAAAAAAAAAAAAAAAAAAAAAAAAAAAAAAAAAAAAAAAAAAAAAAAAAAAAAAAAAAAAAAAAAAAAAAAAAAAAAAAAAAAAAAAAAAAAAAAAAAAAAAAAAAAAAAAAAAAAAAAAAAAAAAAAAAAAAAAAAAAAAAAAAAAAAAAAAAAAAAAAAAAAAAAAAAAAAAAAAAAAAAAAAAAAAAAAAAAAAAAAAAAAAAAAAAAAAAAAAAAAAAAAAAAAAAAAAAAAAAAAAAAAAAAAAAAAAAAAAAAAAAAAAAAAAAAAAAAAAAAAAAAAAAAAAAAAAAAAAAAAAAAAAAAAAAAAAAAAAAAAAAAAAAAAAAAAAAAAAAAAAAAAAAAAAAAAAAAAAAAAAAAAAAAAAAAAAAAAAAAAAAAAAAAAAAAAAAAAAAAAAAAAAAAAAAAAAAAAAAAAAAAAAAAAAAAAAAAAAAAAAAAAAAAAAAAAAAAAAAAAAAAAAAAAAAAAAAAAAAAAAAAAAAAAAAAAAAAAAAAAAAAAAAAAAAAAAAAAAAAAAAAAAAAAAAAAAAAAAAAAAAAAAAAAAAAAAAAAAAAAAAAAAAAAAAAAAAAAAAAAAAAAAAAAAAAAAAAAAAAAAAAAAAAAAAAAAAAAAAAAAAAAAAAAAAAAAAAAAAAAAAAAAAAAAAAAAAAAAAAAAAAAAAAAAAAAAAAAAAAAAAAAAAAAAAAAAAAAAAAAAAAAAAAAAAAAAAAAAAAAAAAAAAAAAAAAAAAAAAAAAAAAAAAAAAAAAAAAAAAAAAAAAAAAAAAAAAAAAAAAAAAAAAAAAAAAAAAAAAAAAAAAAAAAAAAAAAAAAAAAAAAAAAAAAAAAAAAAAAAAAAAAAAAAAAAAAAAAAAAAAAAAAAAAAAAAAAAAAAAAAAAAAAAAAAAAAAAAAAAAAAAAAAAAAAAAAAAAAAAAAAAAAAAAAAAAAAAAAAAAAAAAAAAAAAAAAAAAAAAAAAAAAAAAAAAAAAAAAAAAAAAAAAAAAAAAAAAAAAAAAAAAAAAAAAAAAAAAAAAAAAAAAAAAAAAAAAAAAAAAAAAAAAAAAAAAAAAAAAAAAAAAAAAAAAAAAAAAAAAAAAAAAAAAAAAAAAAAAAAAAAAAAAAAAAAAAAAAAAAAAAAAAAAAAAAAAAAAAAAAAAAAAAAAAAAAAAAAAAAAAAAAAAAAAAAAAAAAAAAAAAAAAAAAAAAAAAAAAAAAAAAAAAAAAAAAAAAAAAAAAAAAAAAAAAAAAAAAAAAAAAAAAAAAAAAAAAAAAAAAAAAAAAAAAAAAAAAAAAAAAAAAAAAAAAAAAAAAAAAAAAAAAAAAAAAAAAAAAAAAAAAAAAAAAAAAAAAAAAAAAAAAAAAAAAAAAAAAAAAAAAAAAAAAAAAAAAAAAAAAAAAAAAAAAAAAAAAAAAAAAAAAAAAAAAAAAAAAAAAAAAAAAAAAAAAAAAAAAAAAAAAAAAAAAAAAAAAAAAAAAAAAAAAAAAAAAAAAAAAAAAAAAAAAAAAAAAAAAAAAAAAAAAAAAAAAAAAAAAAAAAAAAAAAAAAAAAAAAAAAAAAAAAAAAAAAAAAAAAAAAAAAAAAAAAAAAAAAAAAAAAAAAAAAAAAAAAAAAAAAAAAAAAAAAAAAAAAAAAAAAAAAAAAAAAAAAAAAAAAAAAAAAAAAAAAAAAAAAAAAAAAAAAAAAAAAAAAAAAAAAAAAAAAAAAAAAAAAAAAAAAAAAAAAAAAAAAAAAAAAAAAAAAAAAAAAAAAAAAAAAAAAAAAAAAAAAAAAAAAAAAAAAAAAAAAAAAAAAAAAAAAAAAAAAAAAAAAAAAAAAAAAAAAAAAAAAAAAAAAAAAAAAAAAAAAAAAAAAAAAAAAAAAAAAAAAAAAAAAAAAAAAAAAAAAAAAAAAAAAAAAAAAAAAAAAAAAAAAAAAAAAAAAAAAAAAAAAAAAAAAAAAAAAAAAAAAAAAAAAAAAAAAAAAAAAAAAAAAAAAAAAAAAAAAAAAAAAAAAAAAAAAAAAAAAAAAAAAAAAAAAAAAAAAAAAAAAAAAAAAAAAAAAAAAAAAAAAAAAAAAAAAAAAAAAAAAAAAAAAAAAAAAAAAAAAAAAAAAAAAAAAAAAAAAAAAAAAAAAAAAAAAAAAAAAAAAAAAAAAAAAAAAAAAAAAAAAAAAAAAAAAAAAAAAAAAAAAAAAAAAAAAAAAAAAAAAAAAAAAAAAAAAAAAAAAAAAAAAAAAAAAAAAAAAAAAAAAAAAAAAAAAAAAAAAAAAAAAAAAAAAAAAAAAAAAAAAAAAAAAAAAAAAAAAAAAAAAAAAAAAAAAAAAAAAAAAAAAAAAAAAAAAAAAAAAAAAAAAAAAAAAAAAAAAAAAAAAAAAAAAAAAAAAAAAAAAAAAAAAAAAAAAAAAAAAAAAAAAAAAAAAAAAAAAAAAAAAAAAAAAAAAAAAAAAAAAAAAAAAAAAAAAAAAAAAAAAAAAAAAAAAAAAAAAAAAAAAAAAAAAAAAAAAAAAAAAAAAAAAAAAAAAAAAAAAAAAAAAAAAAAAAAAAAAAAAAAAAAAAAAAAAAAAAAAAAAAAAAAAAyMDIyOjEwOjI2IDAxOjQxOjQ1ADIwMjI6MTA6MjYgMDE6NDE6NDUAAABwAHIAYQBtAG8AZAAgAHYAZQBwAGEAZABhAAAA/+ELIGh0dHA6Ly9ucy5hZG9iZS5jb20veGFwLzEuMC8APD94cGFja2V0IGJlZ2luPSfvu78nIGlkPSdXNU0wTXBDZWhpSHpyZVN6TlRjemtjOWQnPz4NCjx4OnhtcG1ldGEgeG1sbnM6eD0iYWRvYmU6bnM6bWV0YS8iPjxyZGY6UkRGIHhtbG5zOnJkZj0iaHR0cDovL3d3dy53My5vcmcvMTk5OS8wMi8yMi1yZGYtc3ludGF4LW5zIyI+PHJkZjpEZXNjcmlwdGlvbiByZGY6YWJvdXQ9InV1aWQ6ZmFmNWJkZDUtYmEzZC0xMWRhLWFkMzEtZDMzZDc1MTgyZjFiIiB4bWxuczpkYz0iaHR0cDovL3B1cmwub3JnL2RjL2VsZW1lbnRzLzEuMS8iLz48cmRmOkRlc2NyaXB0aW9uIHJkZjphYm91dD0idXVpZDpmYWY1YmRkNS1iYTNkLTExZGEtYWQzMS1kMzNkNzUxODJmMWIiIHhtbG5zOnhtcD0iaHR0cDovL25zLmFkb2JlLmNvbS94YXAvMS4wLyI+PHhtcDpDcmVhdGVEYXRlPjIwMjItMTAtMjZUMDE6NDE6NDUuNzQ2PC94bXA6Q3JlYXRlRGF0ZT48L3JkZjpEZXNjcmlwdGlvbj48cmRmOkRlc2NyaXB0aW9uIHJkZjphYm91dD0idXVpZDpmYWY1YmRkNS1iYTNkLTExZGEtYWQzMS1kMzNkNzUxODJmMWIiIHhtbG5zOmRjPSJodHRwOi8vcHVybC5vcmcvZGMvZWxlbWVudHMvMS4xLyI+PGRjOmNyZWF0b3I+PHJkZjpTZXEgeG1sbnM6cmRmPSJodHRwOi8vd3d3LnczLm9yZy8xOTk5LzAyLzIyLXJkZi1zeW50YXgtbnMjIj48cmRmOmxpPnByYW1vZCB2ZXBhZGE8L3JkZjpsaT48L3JkZjpTZXE+DQoJCQk8L2RjOmNyZWF0b3I+PC9yZGY6RGVzY3JpcHRpb24+PC9yZGY6UkRGPjwveDp4bXBtZXRhPg0KICAgICAgICAgICAgICAgICAgICAgICAgICAgICAgICAgICAgICAgICAgICAgICAgICAgICAgICAgICAgICAgICAgICAgICAgICAgICAgICAgICAgICAgICAgICAgICAgICAgIAogICAgICAgICAgICAgICAgICAgICAgICAgICAgICAgICAgICAgICAgICAgICAgICAgICAgICAgICAgICAgICAgICAgICAgICAgICAgICAgICAgICAgICAgICAgICAgICAgICAgCiAgICAgICAgICAgICAgICAgICAgICAgICAgICAgICAgICAgICAgICAgICAgICAgICAgICAgICAgICAgICAgICAgICAgICAgICAgICAgICAgICAgICAgICAgICAgICAgICAgICAKICAgICAgICAgICAgICAgICAgICAgICAgICAgICAgICAgICAgICAgICAgICAgICAgICAgICAgICAgICAgICAgICAgICAgICAgICAgICAgICAgICAgICAgICAgICAgICAgICAgIAogICAgICAgICAgICAgICAgICAgICAgICAgICAgICAgICAgICAgICAgICAgICAgICAgICAgICAgICAgICAgICAgICAgICAgICAgICAgICAgICAgICAgICAgICAgICAgICAgICAgCiAgICAgICAgICAgICAgICAgICAgICAgICAgICAgICAgICAgICAgICAgICAgICAgICAgICAgICAgICAgICAgICAgICAgICAgICAgICAgICAgICAgICAgICAgICAgICAgICAgICAKICAgICAgICAgICAgICAgICAgICAgICAgICAgICAgICAgICAgICAgICAgICAgICAgICAgICAgICAgICAgICAgICAgICAgICAgICAgICAgICAgICAgICAgICAgICAgICAgICAgIAogICAgICAgICAgICAgICAgICAgICAgICAgICAgICAgICAgICAgICAgICAgICAgICAgICAgICAgICAgICAgICAgICAgICAgICAgICAgICAgICAgICAgICAgICAgICAgICAgICAgCiAgICAgICAgICAgICAgICAgICAgICAgICAgICAgICAgICAgICAgICAgICAgICAgICAgICAgICAgICAgICAgICAgICAgICAgICAgICAgICAgICAgICAgICAgICAgICAgICAgICAKICAgICAgICAgICAgICAgICAgICAgICAgICAgICAgICAgICAgICAgICAgICAgICAgICAgICAgICAgICAgICAgICAgICAgICAgICAgICAgICAgICAgICAgICAgICAgICAgICAgIAogICAgICAgICAgICAgICAgICAgICAgICAgICAgICAgICAgICAgICAgICAgICAgICAgICAgICAgICAgICAgICAgICAgICAgICAgICAgICAgICAgICAgICAgICAgICAgICAgICAgCiAgICAgICAgICAgICAgICAgICAgICAgICAgICAgICAgICAgICAgICAgICAgICAgICAgICAgICAgICAgICAgICAgICAgICAgICAgICAgICAgICAgICAgICAgICAgICAgICAgICAKICAgICAgICAgICAgICAgICAgICAgICAgICAgICAgICAgICAgICAgICAgICAgICAgICAgICAgICAgICAgICAgICAgICAgICAgICAgICAgICAgICAgICAgICAgICAgICAgICAgIAogICAgICAgICAgICAgICAgICAgICAgICAgICAgICAgICAgICAgICAgICAgICAgICAgICAgICAgICAgICAgICAgICAgICAgICAgICAgICAgICAgICAgICAgICAgICAgICAgICAgCiAgICAgICAgICAgICAgICAgICAgICAgICAgICAgICAgICAgICAgICAgICAgICAgICAgICAgICAgICAgICAgICAgICAgICAgICAgICAgICAgICAgICAgICAgICAgICAgICAgICAKICAgICAgICAgICAgICAgICAgICAgICAgICAgICAgICAgICAgICAgICAgICAgICAgICAgICAgICAgICAgICAgICAgICAgICAgICAgICAgICAgICAgICAgICAgICAgICAgICAgIAogICAgICAgICAgICAgICAgICAgICAgICAgICAgICAgICAgICAgICAgICAgICAgICAgICAgICAgICAgICAgICAgICAgICAgICAgICAgICAgICAgICAgICAgICAgICAgICAgICAgCiAgICAgICAgICAgICAgICAgICAgICAgICAgICAgICAgICAgICAgICAgICAgICAgICAgICAgICAgICAgICAgICAgICAgICAgICAgICAgICAgICAgICAgICAgICAgICAgICAgICAKICAgICAgICAgICAgICAgICAgICAgICAgICAgICAgICAgICAgICAgICAgICAgICAgICAgICAgICAgICAgICAgICAgICAgICAgICAgICAgICAgICAgICAgICAgICAgICAgICAgIAogICAgICAgICAgICAgICAgICAgICAgICAgICAgICAgICAgICAgICAgICAgICAgICAgICAgICAgICAgICAgICAgICAgICAgICAgICAgICAgICAgICAgICAgICAgICAgICAgICAgCiAgICAgICAgICAgICAgICAgICAgICAgICAgICA8P3hwYWNrZXQgZW5kPSd3Jz8+/9sAQwAHBQUGBQQHBgUGCAcHCAoRCwoJCQoVDxAMERgVGhkYFRgXGx4nIRsdJR0XGCIuIiUoKSssKxogLzMvKjInKisq/9sAQwEHCAgKCQoUCwsUKhwYHCoqKioqKioqKioqKioqKioqKioqKioqKioqKioqKioqKioqKioqKioqKioqKioqKioq/8AAEQgBdQDLAwEiAAIRAQMRAf/EAB8AAAEFAQEBAQEBAAAAAAAAAAABAgMEBQYHCAkKC//EALUQAAIBAwMCBAMFBQQEAAABfQECAwAEEQUSITFBBhNRYQcicRQygZGhCCNCscEVUtHwJDNicoIJChYXGBkaJSYnKCkqNDU2Nzg5OkNERUZHSElKU1RVVldYWVpjZGVmZ2hpanN0dXZ3eHl6g4SFhoeIiYqSk5SVlpeYmZqio6Slpqeoqaqys7S1tre4ubrCw8TFxsfIycrS09TV1tfY2drh4uPk5ebn6Onq8fLz9PX29/j5+v/EAB8BAAMBAQEBAQEBAQEAAAAAAAABAgMEBQYHCAkKC//EALURAAIBAgQEAwQHBQQEAAECdwABAgMRBAUhMQYSQVEHYXETIjKBCBRCkaGxwQkjM1LwFWJy0QoWJDThJfEXGBkaJicoKSo1Njc4OTpDREVGR0hJSlNUVVZXWFlaY2RlZmdoaWpzdHV2d3h5eoKDhIWGh4iJipKTlJWWl5iZmqKjpKWmp6ipqrKztLW2t7i5usLDxMXGx8jJytLT1NXW19jZ2uLj5OXm5+jp6vLz9PX29/j5+v/aAAwDAQACEQMRAD8A+kaKKD0460AFFeIr8atUb4hvo/2K2E4tltvsB1G3+yi580kyfaup/d4Hl43Z425BNe3UAFFFFABRRXMfEDxfJ4J8MjVLfTf7Tme6ito7Yz+TuaRto+ba2PyoA6eiuS0DX/Gd/q8dvr3gmHSLJlYvdprKXBUgcDYEBOTx14rraACiiigAooooAKKKKACiq+oS3UGl3U2n2wu7uOF2gtzIEErhSVTceFycDPbNRaNc393otpcaxYjT7+SINcWizCUQv3XeOD9RQBdooooAKKKKACiiigAooooAKCMjB5FFFAHL/wDCuvDX9omc6dCbU2K2X9m+TH9lCiUyh9m37+49c/hnmuooooA57x1PYW3g67l1bWNR0W0Ux777TAxnj+dcbdqOeTgH5TwT9a8r0/WvBT6narD8VvHk8hmQJFKs2yQ7hhW/0YcHoeRXutFABXmvx4SWT4eWyW8vkytq9mElK7tjeaMHHfB5xXpVYPjLwjZeNvD/APZOpXN3axedHOs1m6pIjocqQWVh19qAK/hrRfFmm6hJL4k8Xw63bNEVS3TSUtSj5BD7lc54BGMd/avGtXzo3ji9+Fun6itt4R1jUYWuLhdw/s8zB3exDDhfNKDaOwY9cmvXNE8AS6Lq8V+3jPxTqIjDD7Nf30ckL5UjLKIxnGcjnqBUS/Czw+fA+oeGblru5h1Gd7q5vZnX7S87Nu83eFA3AgY+XGABg85AOW8X+HLPVPjP4V0EyXFlpn9iXEbwWUph8yJGTEWV5CfKuQCOBipPDGk2vgf47z+GPDO+DRb/AEL7fLYeazpbzLNs3ruJ2hgefU/hTvFngaTX/ip4Ygu/7Wls7PR5kOrwu0csUyldjmVAAsh5PQA88Y4rsPCngHTPCV5eX8N1qGp6nfBVuNQ1O486Z1XoucABR6ADt6CgDzr4C+C9Kufh7oXi+/S5vtYjE4tXkuHAtkWSSPy0UELg/MTkHJYnsMcx4Y07UvHfguTxDf8AgbUtc1rUnnkh1tNYhhNu4kZUEKtKGjVCoGMDOO4xXvHg/wAK2PgnwpZ+H9JkuJbSz3+W9wwZzvdnOSAB1Y9ulYZ+FunwXV0+ia7r+h213K001jpt6I4C7feZQVJQn/YK0Ac14h8NeL9Z8HeDZte0z+3H02Njruhm7WM3rlAqvuB2MyEFtucMWpJbC08XfCabTfhpZS2As9TAv9DuZXtnYowaa0Zsny9wI6Hb29a7nVPBgv7XToLLxBrukLp8PkRmwvBmRcADzPMV954+8eeTzzVSD4c6fY+HP7K0nVta053vDfT6hbXn+k3MzAhmkdgQ+cjIIx8o44oA5TRbnw1B4M8Z6Vofh648Marb6bI9/pk+flzE+x0IYoynn5l69+1Yay3GpeCvhJ4Ta7uLTTNct/8AT5LeQxtIkMAYQ7hyA5OOPSvS9L+Hml6baaykt7qOoXetQG3vNQvZxJO8e0qFBChVADHAC45pt58NtBv/AATpnhm6+1Nb6UkYsrtZtlzA6DCyK6gYb8Me1AHG3/hjTPht8TPBp8FLJpsGsXM1nfaek7vFcII9wfazHBU45Hr+dHwl4B0Xxt4k8eHxOLm9tYfENwkNn9pdIo3KrmUBSMvjaMnOAvFd74e+G2maFrya3dalq+u6pFEYoLvWLvz2t0P3ggAAXPc4z19TWt4f8LWPhu71i4sZJ3fWL5r64EzAhZGABC4AwvHfJ96AOa+C17c3Pw3it726mu5NPvLmyWedsu6RysFyfZcD8K7+sXwt4WsvCOky6fpslxLFLcy3TNcMGbfI25hwAMZPFbVABRRRQAUUUUAFFFFABRRRQAUUUUAFFFFABRRRQAUUUUAFFFFABRRRQAUUUUAFFFFABRRRQAUUUUAFFFFABRRRQAUUUUAFFFFABRRRQAUUUUAFFFFABRRRQAUUUUAFFFFABRRRQAUUUUAFFFFABRRRQAVFdRNPZzRIQGkjZQT0yRipaKAPBvFFpL4I+EXwwg8RKLB9L8R2D3oBDiIKJWc5TOeMnjNej6D8TtK1zxLHoUmm6xpN7cRNNaDVLIwC7ReSY+STgc4IBxWR8ZU3r4EUruB8ZafkYzx+8p/j4lfi18NXTh/td6u4DnBt+RQBsav8RbDTtcudI0/StY129s1VryPSbUSi23DKh2ZlG4jnaCT7VynxN8Rad4o+FWlatos5ltZtZswCVKsjCcBlZTyGBGCPaucjgtfC/j3xbD4v8Y694VGoam99ZSWzIlvdxOBjDtE+XX7pGRwBweaseI9J0jTPg1aHw7danfWl74lt7o3GpR7JZXacBmxsT5SRkfLznNAHWZP/AA1LjPH/AAhmcf8Ab7Vm9+MGiwXl5Hp2j6/rNrYSNFd6hpmnmW3hdfvAuSN2O5UEVTljZ/2oHCMULeCyocD7p+29a5z4eeP9D+HPgOPwn4uS5sNe0ySZHshaSO96WkZleIgEOGBAzn8higDsvFMH/CwPDfhXUvCxj1CyXXLHUWfcFBgSTLnDY5AzlevBGM8V3FzcRWlrLc3LiOGFDJI5/hUDJP5VxXwb0O/8P/CzTLPVbb7Jcu0twbY9YVkkZ1Q+hAYZHY8V2tz5/wBll+yGMXGw+UZQSm7HG7HOM9cUAcJ/wvL4b/8AQ023/fmX/wCJrt7C+ttU022v7CUTWt1Ck0MoBAdGAZTzzyCDXEeX8YP+fnwR/wCA93/8XXb2H2wabbf2oYDe+Sn2g24IjMmBu2Buduc4zzigDhPhVqd/DP4k8Ja5e3F7qGg6kwjmupWlkktZfnhZmbknGR7AAVH4V8QS3/iTxv4s1HUbhfD+nzfYbSLezRKtuuZ5QgzkljwQMkDHNYPxZ1S6+HPjW28aadA8qarpk+kzqgz/AKQAXtmx3JYFfoK6WDTdU+HPwJNr4ftRd6xp2nGQIFL+ZOfmkbHVvmZjjvjFAFu1+KGnS6vp9jqOi67pCanKIbK61GyEUU8hGVQEMWVj2DBc1n6KT/w0T4nGeP7FtP8A0Jq8y1XV7HW77wHPaeNNZ8S3n/CSafLeQzQKlrakvg5VYl8t8sAFLHjdx3r03RQf+GifE5xx/Ytp/wChNQB0GheOtM8Q/D0eMbKG7TTjBNP5UqKJtsTOrDAYjOUOOfSmXvxB0aw8J6Rr0yXbJrUcT2FlDD5lzO0iB1QIpPzYPPOB69K8i8KeNNP8LfA298Dalb3x8UWNvfWsmmRWkjP87yMJM42iMK+SxOMA+2bGuabcL4W+EfiGa81Ox0jTdKWO+vdMUNNaebaRhJANrfLkEMdpwD6mgD1fw747sNf1ifR5bDUdH1WGITmx1OARyPFnHmLtZlZc8cHg9a6avLPBFp4V1bx7Fq2keMNd8UX9lZSIJboq9vFGzKCu9YVG4nkLuzwTjivU6ACiiigAooooAKKKKACiiigAooooAKKKKACiiigAooooAKKKKACiiigAooooAKKKKACiiigAooooAKKKKACiiigAooooAKKKKACiiigAooooAKKKKACiiigAooooAKKKKACiiigAooooAKKKKACiiigAooooAKKKbLLHDE0szrHGg3M7nAUepNADqybfxX4du9VOmWuv6XPqCkg2kd5G0oI6jYDn9Kq+Img8S+ENa0zRdYto7m4sZYlnjmDeSWQgMSDkDnrXgsWq6J4l8I+GvBVnoVpoWrpeRQLrpEa2yvA675Lecf62RyMBR1LHJ6EgH0Fqni7w3od4LXWvEOladclQ4hu72OJyp6HazA44PPtUmk+J9A1+WSPQtc03U5IlDSJZ3ccxQHoSFJwKTVtE0C68y/1vS9PuDDGS891bI5VFyepBOBzXCfBnSYLqPW/G8dhDYr4huj9igiiEYis4spH8owAWwWPrwaAPTZpo7eF5riRIoo1LO7sFVQOpJPQVn6X4m0LXJZItE1vTtRki/wBYlpdpKU+oUnFcp8aNMm1L4bztFLarHZXMN5PBeTCKG6jjcMYWc8Ddx14yAK4vw/q2ieO/iv4ZufD+jr4Xk0e1e5mW6hW2uLxJI9oiiQffjHJLHjHSgD3Kiqer3V5ZaTcXGmae2pXca5itFmWIynPTe3A/GuM/4TLx/wD9Esuf/B7af40Ad5NNFbW8k9xIkUMSl5JJGCqigZJJPQAd6ZaXltqFnFd2FxFdW0yh4poXDo6noQw4I+lSSxJNC8Uqh43UqynoQeorzD4U6gnhXRPE3hTVpSi+EbuVleRsn7E4MsTn/gO78hQB6Rb6lY3V7dWdreW81zZlRcwRyqzwFhld6g5XI5GetWa8u+HUWtQfDm+8VWOnRXeu+Jr1tSEFzP5SpHI4WMM+D8iR4bAGcEgVa0vx1r1n8QtJ8NeJJNBv11mOc28+jO4Nu8Kb2WRXZsgjoeOc8UAdtpuv6bq99qNnp1z50+mTCC7TYy+U5UNjJAB4PUZFaNeRaDqs+gy/F/V7NI3uNPupbqJZQSjMlruAYAg4yOcEVv65461LTfgRH41t4LRtRfS7a8MToxh3yBCwwGDY+c459OaAO+oriPGnje80jxJpvhnQBpy6pfQPcvc6pKUt7aFTjcQCC5J4CgjoeaTwZ42v9U8Ual4Y1/8As2XUbKBLuO70mQtb3ELEr0YkowIwQSetAHcUUUUAFFFFABRRRQAUUUUAFRXVrb31pLa3sEVzbzIUlhmQOkinggqeCD6GpaKAOJ8UfDfS7vwLrmkeEdM0zQ73UrUwie1tUg385CuUAO04wevBPFcrr+keMvF/w9TwVL4HtdIDJFC2oSahC9vbiNl+eNE+cnC8AgYzyfX2CigDiPiRomva14Gh8NeHg8h1GWKzv71pVUwWv/LWTBILEgYwMk7jXVQWSaRoUdlo1uipaWwitYScKAq4RfpwBV2igDy/xFoPjTxh8P8Aw5earpunxeIdM1OPULvRzNi3uBG7gR7tzAEqVbkkZzRqWk+KfHXivwzd6h4ZHhu30O+F7JdT30U00oAP7lBET8rHGSSOB09fUKKAKer6aNX0m4sGu7uzE67TPZTGKaPnqrjkGuM/4VND/wBDt43/APB9J/hXf0UAFeRfFDwF4l1jxal14RjX7Jr1kula4/mqnkwiVW83DEbjsLrxk47c167RQBxPxJ8LajrPw6/sbwwiEwyQE2TTeUt1BGw3QF/4QwGPwxXI6V4K1R/il4S12y+H+n+FNM0sXaXQt5rczOZICqs/l8MA2AMFj8zE4r2SigDzjTPBOpz/APCybPUIxaQeJJpEtJ96vuR7fy9+AcjBPQ4PFcjrOifE/Vfg7/wg0fhSyt2s7OK0a9OpRv8AbEiKhfKTjaSFBJcjAB7kY91ooA81+IHgafUfG+meLLPw/p3iZba0axu9KvvLBeMtuV4zICm5SW4bHB6jNbHgjSfsl5d3X/CA6V4SVkVE+zGAzzc5O/yV2hRgYG459q7KigAooooAKKKKACiiigAooooAKKKKACiiigAooooAKKKKACiiigAooooAKKKKACiiigAooooAKKKKACiiigAooooAKKKKACiiigAooooAKKKKACiuR8V/EO08K69Y6MdF1nV769heeKLS7dJSEUgEkM6+vvWj4Y8Tv4liuHfQNa0XyGUBdWtliMmc8rtZsgY5+ooA3aKKKACiiigAooooAKKKyfEGuPoNtaSx6TqGqG5u47YpYQ+Y0QbP7xhkYQY5PbIoA1qKKKACiiigAooooAKKKKACiiigAqvf3i6fp9xdvDPOsEZkMVvEZJHwM4VRyx9AKsUUAYPh7xZB4inmig0nWrAwqGLalpstsrZOMKXAyfYVvUUUAeXeIdXvofEN7HF8Z/DujIspA0+4s7ZpLf8A2GLTAkj3ArrPAt1NeaHNJceL7DxawuWUX1hDHGkY2r+7IjdhkZ3ZznDDitC58K+Hry5e4u9B0yeeQ7nlls42Zj6kkZNW7DTLDSrdoNLsrayhZt7R20SxqWwBnCgc4A59qAPL/HZ14fHTwyfCiaa+of2RdYGpPIsW3cueUBOfSuwGleJ9f8E6jpvii8tdK1S43LBdaBcTL5IwCjbm2tu3A5A4I47mqXi7wLq2ueL9N8ReH/Eq6JeWFrJbDfp63QdXIJ4LqB096d/wi3jK48Mavpmo+OY57q+jWO3vYtIWFrRed+FWT5iwIAORtxnmgDivh94t174jeKbLTNQvmsl8JqTqhtLrb/alyHaNCNpG6HCFmHQscYIxVvRtJ1rxr428a2V74v1vT9L0/VAkNvp1z5UgJjX/AJaHJVBjhFwMkk5rp0+GFhpmq+Gb/wAL3P8AZMuhRfZHAh8wXtqfvRPyOS2WDc4Yk4Ncb4d8Oa7qvxB8fXXhvxVcaBOurCKQfZUuYZVMSnPlvjDDswPsc0AZuqeL/Edl8CfG0U+r3Euq+GdZGnw6mkhSWaNbmHBZlwdxVip9R1711Pio6t8K/hlr/iQ+IdT1vWJYolJvZA9vDM8gXfFFjEajfnbyPlUH3v3nwitJvhPqXgu31WZJdUuBdXepzxCSSafzUkZ2UFQc7AvXgY69+w8S+HrDxZ4avdD1dGezvY9km04YcghgfUEAj3FAHjo1PWtJu9Iu/Db/ABD1LUftkMeoRaxp1wbW4hY4kO1l2xEZyCuMY5zWp4svJ7P4gao3jvVvE2jaE3kjSL/SJ3is4htAfzjGDh95/wCWgK49q6/TPCni60ns47/x5Ld2FrIjeUumRRzTqpyEklycg4wSqqSO/Oaj8TeDPEviQajYP4zFvomoK0UtmulRtKkTDDIsu7jI7lSRmgDF+ItzqUWuaNcXF1r3/CHfY3NxdeHpG84T5Gx5Wj+cxbMnK8Z61D4t1tLb4d+Ernwn4jvb60n16zhF/wDai0txG0jbkdxgsP4SD6YNdXfeF/EEEVjaeEfFEei6dZ2UdolrNpiXWNmQHDFlIO3aMHI+Xpyay2+FFqngvR/D9rqkqDTtWi1WW5khDNcSK5dxgEBdxY4xnHHBoAz9QOqePPivrfhpdf1LRdH8P21s0qaXN5E1zNMpcEyY3BQoxgd6pWGpa34evfHnhO61u81OHTdH+36bfXUmbmIPG+VZwBuIYZB6/wBOo8ReAb298VHxL4U8RTeHtWlgW3un+yrcw3Man5d0bEfMOzA9KTR/hwun6X4h/tDWJ9U1rxDC0N7qk8SqcbCihI14VVBPyg/j0wAecy2Hii3+CFp4+PjnWn1m10+C7jg87Fq0YCjZJH/y0YrnLsSS3PtXutjci9062ulGBPEsgH+8Af61ys/gHzvhAPA39pbcactj9t8jP3QBv2bvbpu/Gup0+0+waZa2gff9nhSLfjG7aAM4/CgCxRRRQAUUUUAFFFFABRRRQAUUUUAFFFFABRRRQAUUUUAFFFFABRRRQAUUUUAFFFFABRRRQAUUUUAFFFFABRRRQAUUUUAFFFFABRRRQAUUUUAFFFFABRRRQAUUUUAFFFFABRRRQAUUUUAFFFFABRRRQAUUUUAFFFNllSGF5ZWCRopZmPQAdTQB574mJ8UfGDw54dTLWehodcvuODIDstlz6hizY9BXoleefCWJ9VtNa8bXSFZ/Et800G4YZbSP93Ap/wCAgn33CvQ6AM/UNf0fSZlh1TVrGylZdypc3KRsR0yAxHHFLp+vaPq0zRaVqtjeyIu5ktrlJCo9SFJ4rkvHenXV5rED2/wz0bxcogAN5f3MEbxHc37sCSNjjvwcfMeKd4E0+6s9UuXufhro/hFWhwLrT7mCRpjuHyERxqcd+TjigB3xb1zV9A8FRXHh6++wXk+oW1sLgQpLsWRwp+VwQetW9A8N+LdO1eO51rx3NrNoqsGs30q3gDkjAO9BuGDzWB8e44JvhxDHeEC3fVbRZSW2gIZBnntx3rS8HaB8O9B1tpPB95ZnULiJodiaw9yzpkMQEaRv7oOQM8fWgDZg8e+GrjwreeJI9UQaVYu8d1NJE6NC6HDIyMocNkgbcZORgHIpmp/ELwtozxpq+rR2Ty2Qv0S4idGaEsFBwVzuywGz73txXiniJraX4iX/AIttrWeT4f22sW6aykbfu7m7QMpuQuOY0dow394jv27DxTq2gad+0Z4evtfuLSK1OhP9mubjBjSUzHawc8LxkBsjr15oA9C8MeNPD3jK3nm8N6lHei3bZMmxo3jPONyOAwzg4yOcVn6V8UvBmt6nYafpWuR3N3qCF7eNIZOR833iVwhwjEBsEgZFcv4ZvLPW/wBovXdT8NzxXWmwaFFbX1xbsGjkuzNlfmHDERgjrxjFHwCslh+AWnSabFHDeXYunaQKAXkE0iKzeuAqj6AUAdPffFPwXp2qS2F3rsSTQS+TM6xSNDC/915QpRD7MwxWp4g8X6F4Xt7ebW79YBdMVt0SN5ZJiBk7EQFmwOSQOK8Q8BWt7d/CB9Ju/iBomi2wS4ttS0++0tDNbszuHEjNMpLHOckenpXb3fhaztdH8Hy6X42tLDXNE04R2N5chDHeQMiqxaJmztIUcg5GepoA7QeN/Dv/AAireJH1NItJUlTcTRvGQwbbt2MA27PG3Gc9qoS+M9H8QeENdutD1uXT/sFpI817JYSh7P5GYSeVIoLYCk4xziuUg1W3+KHw2V/EupWmgXtlrRhs9TtplME11A2Ulh8zh0OG+U5ztb0zVafxfqur+DfiL4d1q40/U5dI0OZhqumcRTh4JPlZckLIMcgEj6UAd3b+KNJ0H4f6brXiDxFDNZvaQt/ak8fk/ayyBg4j6hmHOwDP5Uvhr4h+FvF93La+H9XjubqFd727xPDIF/vbJFUkcjkDuK8uuZ7bTrX4K6p4hZE8P2+nKs00vEUNw1pH5LOTwOQcE9ME1va7qeleI/jp4K/4Re6t9Qu9PS7l1GeykDrDbtEAqyMpxyx4Hv2zyAdPqnxY8EaM9ymo69HFJa3L2k0Qgld0kQAv8qqSVAYfMBt966fTNTstZ0yDUdKuY7uzuE3xTRNlXHtXnfwpsrU+KfiHdm3iNw/iGaFpSg3MgVSFz6ZJOPerHwNCxfDuW2iUJDbarexRIo4VRMxA/WgD0aiiigAooooAKKKKACsbxdodx4l8I6lotpf/ANnSX8BgNyIvM2K3DfLkZyuR14zmtmigCrpenW+j6RaabYp5dtZwpBEo7KoAH6CrVFFABRRRQBU1LStO1myaz1iwtb+1YhjBdQrKhI6HawIrOsPBPhXSrxLvS/DOj2VygISe3sIo3UEEHDKoIyCR9DW5RQBRh0PSbfRjpFvpdlFpjIyGyS3RYSrZ3DYBtwcnIxzmuXu/AKXXxJstXa209tCt9DbSzYNHkf6wMoEe3ZsAGMZ4wOK7aigCppulado1oLXSLC1sLcHIhtYViQH/AHVAFPsNPstKsY7LS7OCytYs+XBbxLGiZJJwqgAZJJ+pqxRQBk3nhTw7qGoi/wBQ0DS7q9HIuZ7ON5B/wIjNSar4b0PXhGNc0bT9S8r/AFf2y1SbZ9NwOK0qKAM+60DR77S00290mxuLCPGy1mtkeJccDCEYHU9u9FroGj2Oly6ZZaTY21hMrLJaQ2yJE4YYYFAMEEcHjmtCigCq+lafJpY0ySwtnsFjEQtGhUxBAMBdmMYAGMYxUWlaFpGhQtFomlWWmxucslnbpCGPuFAq/RQBXtdPsrGS4eytILZ7qUzTtDEqGWQjBdsD5m4HJ54osdPstMtzBptnBaQs7SGO3iWNSzHLNgDqTyT3qxRQAUUUUAFFFFABRRRQAUUUUAFFFFABRRRQAUUUUAFFFFABRRRQAUUUUAFFFFABRRRQAUUUUAFFFFABRRRQAUUUUAFFFMnnitbeSe5lSGGJS7ySMFVFHJJJ4AoAfRXny/EfTz8WZdJPiHS/7EXREuVf7TFt+0GdlI3567APlz7130E8V1bxz20qTQyqHSSNgyup5BBHBFAD6Kz9d1hdB0ebUHsb6/ERUfZ9PtzPM+WA+VBycZyfYGuVt/inDcXUUI8GeM4zI4TfJociquTjJPYe9AHdUUV5j+0Abb/hWSf2hj7J/adp5+c48vzBuzjnpmgD06ivLPh3afB+48Ued8PI7N9XtYGk3QmbckZwjH5+P4gPxq23xfgtdB1ZtS0hrfxFpt8unjQ0uN73M0h/c+W+0ZRxkhtvADcHAyAekUVwviL4iXnh7xFpOg/8I1cajqep2LXCQWU4bbKpUGPcygbBliZDjAXpzip/Cnjy61nxNeeGvEegyaBrlrbrdrbG6W4SeAtt3pIoGcHgjHf64AOzorzrwH8TtW8fR2F5p3g64g0iYsl1qEt6gWFxu4RCoaVeFBYYwSRzg0f8LO1S/sr3WPDXg+fVfD1nJIrX/wBuSKSdYyRI8MRB3gEHGWXOOOaAPRaK4nVPiTAlr4b/AOEZ09tYvPEyPLp8Dzi3Qxogd2dyDtIDDjBOfpUur+OL7w54Ri1PX/D7W+p3F4ljb6dDeJKJZXbCfvcAKp65IGMdKAOxJCqSxwBySe1IrK6hkIZWGQQcgiuSn1PVLzwZ4gbxl4XisoIbKUtbxaiJ1u4/Lbeu9VUpwMdO/FY9j450rwz8LvCs+k6HcF9Whhh0vRbaXzHLMu7Z5j4+VR1c0AejUVwek/EPUl8V2Ph/xp4Wl8PXWpq5sJVvUuoZ2QZZCygbWx2I5/KqQ+KWtajq2uaZ4Y8EXOrXWi30ltM325IImRQMMHZfvsdw2AHAGSeaAPSaKw/Bviq18aeFLTXLGGW3juNytBMMPE6sVZT9CDW5QAUUUUAFFFFABUV1a299aS2t7BHcW8yFJYZUDpIpGCpU8EEdjUtFAHmi/CvRB8WZb4+ENG/4R86IkKp9ig8v7UJ2JPl4+9sK/NjpxntXo1ra29jaRWtlBHb28KBIoYkCJGoGAoUcAAdhUtFAGfrtlqOo6PNbaNqzaPeOV8u8S3SYx4YE/I/ynIyOfWuVt/CHjuK6ikn+JtxPErhniOiWq7wDyuQMjPTIruqKACvPvjTaXt34Dg/s3T7vUJYNTtZ2gs4GlkKJICxCryeK9BooA5DRPiHFrerxWC+F/FNgZAx+0X+kSQwptUt8znpnGB6kgV5vqfh/xNrGvTfFu00eaPUdMulTT9DmtSs1xYx7kkLKRuEr72ZeMgAAZ4r3eigDx/xhr11Y/GbwlrGn6JfaiG0S4kkso02XKxsykkRtjLrnlDg9R1rT8Lxap4s+L0/jO50TUNF0uz0n+zbSPUofJnuHaXezlM5VQOOeuQfUV2d14XsbvxnY+JpJJxe2NrJaxIrDyyrkEkjGc8ccitqgDz74I6Ve6X8FdF07WLO4sbpBcCWCeNopE3XEhGQcEZBBH1Fed+GfBek+FtDPh/xh4M8V6hqFrLKi3Wky3T217GzsVZfLlVE4IBDbfU9TX0LRQB5r4h0zwzaeDtB0XVfBOuTWUcAktotOt5LmXTXAB2mSNi6sCcZBIODzWdoyXqfDG8tfiFoGua9pd1qbxWNnNa/ab6KzxmN5wp3ZBU8jLAlfw9booA8g8M6frh0Hxra2drrqeG5NOaPSLTWlY3IlMTh1RWzJsyVADfh3qsfD2vab4N+GPiOz0e6vbrwxb4vdKC7ZzHLCEcqjdXXH3eDXtFFAHlclzqnxG8feGbq28OatoukaDPJeXFzq9t9neWQptSOOMnJ68np+mdb4aabfafrPjh76zntkuvEM01u00ZQTRlEw65+8vuOK76igDg/g/p99pngy7g1O0uLSVtWvJFjuI2RijSkhgD2PUHvXeUUUAFFFFABRRRQAUUUUAFFFFABRRRQAUUUUAFFFFABRRRQAUUUUAFFFFABRRRQAUUUUAFFFFABRRRQAUUUUAFFFFABRXKat8TvCGi6nNp9/rA+025xcJb28s4gP/TRo1YJ/wIiuohljuIEmhcPHIoZGHRgRkGgB9FFFABRWZpviLS9W1bU9M0+68280qRI72ExspiZxuXqBkEDIIyKW98Q6Xp2u6bo15dbNQ1TzPskAjZjII13OcgEKAO7EUAaVFFYt/wCKbHT/ABfpPhyeOc3mqxTSwOigxqIgC245yCc8YB/CgDaooooAKKKKACiiigAooooAKKKKACiiigAooooAKKKKACs7xDfSaZ4Y1S/hGZLWzlmQe6oSP5Vo1HcW8d3ay28674pkKOp7qRgigDxXwD4i17wh8I7HU7XwPJd6aLY39/fHUo1uLgt88kwjw27jONzBsAcCvYtI1S11zRbLVdPcva3sCTwsRglWUEZHY89K8utvh98Q7DwjL4Hsdd0T/hHWR7ZNQkhlN9HbvnKbBhCcEjOa9P0XSbbQNBsdIsAwtrG3S3i3HJ2qoAyfXigDlLqT4sfbJvsVt4NNt5jeSZri6D7M/LuwmM4xnFdRoJ1s6PGfE62CallvMGnM7Q4z8uC4DdMZ461y918Fvh7e3k11deGbeSeeRpJHMsnzMxyT971NdRoPh/S/DGjx6XoNmtnZRFmSFGJCljk9ST1NAHCaup8KfHzSNWUbbHxVaNpt0ewuYhuiY+5X5B9Km8Mg+J/jP4j8Qt81noUS6HZHPBl/1lwcdiCVX6Vt/Efwnc+MPCf2TS54rbVbS5ivdPuJs7Yp42BBJAJxjI4Hel8D+EZfDPgGHRb64WW/mEst9dQE/vJ5WLO4JAPVsA4HAFAHmnjD4jap4XsrrUP+FkaLeazaOrP4etbSNrdhuAaIScybgCeSw6fdFdV4glE/x38ATAYEmn37AHtmNTWBL8LvHX/Cr7jwFbXvhuLTtpVL1UmE9wN+8B127UJOMsC3HbPNdzfeEL66+IfhTXkmtxbaNZ3MFwhZt7tIiqpUYwRwc5IoAj+H3iDU9c1XxhDqlz58em67LaWo8tV8uIKpC/KBnqeTk+9cu3xO1TRvgtc+JL+eC51NtUnsbaS4UJGp+0OiFggGQqLk45O38a0x4M8baB4q12fwbqmjR6Zr1z9rmOoQyPNaSlQGaNV+V84yAxA6fjHY/Cq8b4Qt4S1XVEGox3sl7BqEK7wsvnmWNypAz1+Ye5we9AHP2XxOk0zxR4egg+IFl4wi1a/jsLqyjso4XtzJkLLGyAHaGwCG3cH8a9urkdJT4hvf2qa7J4bhs4zm4kshPJLOAOiqwVY8n3auuoAKKKKACiiigAooooAKKKKACiiigAooooAKKKKACiiigAooooAKKKKACiiigAooooAKKKKACiiigAooooAKKKKACiiigAooooAKKKKACiiigAooooAKKKKACiiigAooooAKKKKACiiigAooooAKKKKACiiigAooooAKKKKACiiigD//2Q==)\n"
      ],
      "metadata": {
        "id": "gY7G58tkwzOc"
      }
    },
    {
      "cell_type": "markdown",
      "source": [
        "**2. What is the difference between string and variable?**\n",
        "\n"
      ],
      "metadata": {
        "id": "d8k-A0Lwx4t4"
      }
    },
    {
      "cell_type": "markdown",
      "source": [
        "A string is one of the data types . We generally assign string within quotes.As python is an object oriented programming language every thing is an object . A Variable in python is just a reference or kind of a pointer to an object . "
      ],
      "metadata": {
        "id": "SWQ6rXRv7NoK"
      }
    },
    {
      "cell_type": "code",
      "source": [
        "a = 'Pramod'"
      ],
      "metadata": {
        "id": "hTY9nYtRyCw_"
      },
      "execution_count": 1,
      "outputs": []
    },
    {
      "cell_type": "code",
      "source": [
        "b = 'Pramod'"
      ],
      "metadata": {
        "id": "_emtxFr-yfzh"
      },
      "execution_count": 2,
      "outputs": []
    },
    {
      "cell_type": "code",
      "source": [
        "id(a)"
      ],
      "metadata": {
        "colab": {
          "base_uri": "https://localhost:8080/"
        },
        "id": "XgiD_K15yjat",
        "outputId": "2f5a42f9-db12-4d20-edf1-784acab75cb9"
      },
      "execution_count": 4,
      "outputs": [
        {
          "output_type": "execute_result",
          "data": {
            "text/plain": [
              "140234523705456"
            ]
          },
          "metadata": {},
          "execution_count": 4
        }
      ]
    },
    {
      "cell_type": "code",
      "source": [
        "id(b)"
      ],
      "metadata": {
        "colab": {
          "base_uri": "https://localhost:8080/"
        },
        "id": "l1PEsoG9ynyO",
        "outputId": "c67688df-ff84-4aa3-b0bd-02eaaec015b7"
      },
      "execution_count": 5,
      "outputs": [
        {
          "output_type": "execute_result",
          "data": {
            "text/plain": [
              "140234523705456"
            ]
          },
          "metadata": {},
          "execution_count": 5
        }
      ]
    },
    {
      "cell_type": "markdown",
      "source": [
        "In the above example , a and b are variables and their data types are dynamically inferred as string . Here , you can see a & b have same address , i.e, they are pointing to the same object . 'Pramod' is a string and it has been assigned to variable a and b ."
      ],
      "metadata": {
        "id": "hKInWtK4yxcI"
      }
    },
    {
      "cell_type": "markdown",
      "source": [
        "**3. Describe three different data types.**\n",
        "\n",
        "\n",
        "\n",
        "\n",
        "\n",
        "\n",
        "\n",
        "\n",
        "\n"
      ],
      "metadata": {
        "id": "GHvLbfhGzoL9"
      }
    },
    {
      "cell_type": "markdown",
      "source": [
        "1.   Numeric Data type : int ,float .\n",
        "\n",
        "\n",
        "> In Python, numeric data type represent the data which has numeric value. Numeric value can be integer, floating number or even complex numbers.We can store whole numbers in int . We can store integers with decimal values in float .\n",
        "\n",
        "\n",
        "2.   Text Data type : string (str)\n",
        "\n",
        "\n",
        "> In Python, Strings are arrays of bytes representing Unicode characters. A string is a collection of one or more characters put in a single quote, double-quote or triple quote. In python there is no character data type, a character is a string of length one. It is represented by str class.\n",
        "\n",
        "\n",
        "3. Sequence Data Type : Lists , tuple , dictionary , sets.\n",
        "\n",
        "\n",
        "> In Python, sequence is the ordered collection of similar or different data types.Lists are just like the arrays, declared in other languages which is a ordered collection of data. It is very flexible as the items in a list do not need to be of the same type."
      ],
      "metadata": {
        "id": "zfIE5E1X7ehw"
      }
    },
    {
      "cell_type": "code",
      "source": [
        "c = 4 \n",
        "d = 4.5\n",
        "ineuron = [\"Excellent\" , \"Efficient\",\"Affordable\", \"17700\"]\n",
        "x = [c,d,a,ineuron]\n",
        "for i in x:\n",
        "  print(type(i))"
      ],
      "metadata": {
        "colab": {
          "base_uri": "https://localhost:8080/"
        },
        "id": "0EbCSnckzZ2v",
        "outputId": "27660e79-9dc5-4a97-acaa-161cffff7e95"
      },
      "execution_count": 7,
      "outputs": [
        {
          "output_type": "stream",
          "name": "stdout",
          "text": [
            "<class 'int'>\n",
            "<class 'float'>\n",
            "<class 'str'>\n",
            "<class 'list'>\n"
          ]
        }
      ]
    },
    {
      "cell_type": "markdown",
      "source": [
        "**4. What is an expression made up of? What do all expressions do?**"
      ],
      "metadata": {
        "id": "GJn1-k_L2rAC"
      }
    },
    {
      "cell_type": "markdown",
      "source": [
        "Expressions are made up of different operators like (+,-,*,/,=,<,> ).These expressions are used to do comparison , to perform certain operations like addition , multiplication etc and to assign values to variables."
      ],
      "metadata": {
        "id": "544tfybW2zUw"
      }
    },
    {
      "cell_type": "markdown",
      "source": [
        "**5. This assignment statements, like spam = 10. What is the difference between an expression and a statement?**"
      ],
      "metadata": {
        "id": "fFZohwwA62Mk"
      }
    },
    {
      "cell_type": "markdown",
      "source": [
        "As discussed in the above question , Expressions are more using operators . Where as Statements incluse expressions also . In the example , spam = 10 , = is basically an expression and this whole spam = 10 can  be considered as a statement . "
      ],
      "metadata": {
        "id": "rgVIXK3N2RBR"
      }
    },
    {
      "cell_type": "markdown",
      "source": [
        "**6. After running the following code, what does the variable bacon contain?**\n",
        "\n",
        "\n",
        "> bacon = 22\n",
        "\n",
        "\n",
        "> bacon + 1"
      ],
      "metadata": {
        "id": "nPwFyGB925hF"
      }
    },
    {
      "cell_type": "markdown",
      "source": [
        "The variable bacon will contain 22 only , because in the second statement we are adding 1 to the value stored in bacon i.e, 22 but we are not assigning that value back to bacon . So , bacon variable will contain 22 only . "
      ],
      "metadata": {
        "id": "9KUMbk-e3Y2B"
      }
    },
    {
      "cell_type": "code",
      "source": [
        "bacon = 22\n",
        "bacon+1\n",
        "bacon"
      ],
      "metadata": {
        "colab": {
          "base_uri": "https://localhost:8080/"
        },
        "id": "zVwKN5ia2Q3u",
        "outputId": "47be628f-2623-438b-8879-0d9616a6eb5d"
      },
      "execution_count": 1,
      "outputs": [
        {
          "output_type": "execute_result",
          "data": {
            "text/plain": [
              "22"
            ]
          },
          "metadata": {},
          "execution_count": 1
        }
      ]
    },
    {
      "cell_type": "markdown",
      "source": [
        "**7. What should the values of the following two terms be?**\n",
        "\n",
        "> 'spam' + 'spamspam'\n",
        "\n",
        "\n",
        "> 'spam' * 3\n"
      ],
      "metadata": {
        "id": "3fzhAafU4AMJ"
      }
    },
    {
      "cell_type": "markdown",
      "source": [
        "In the first statement , the two strings will be concatenated.\n",
        "\n",
        "> In the second statement , the string gets concatenated 3 times intoa single string.\n",
        "\n"
      ],
      "metadata": {
        "id": "i-xf8kNj4WlS"
      }
    },
    {
      "cell_type": "code",
      "source": [
        "'spam'+'spamspam'"
      ],
      "metadata": {
        "colab": {
          "base_uri": "https://localhost:8080/",
          "height": 35
        },
        "id": "UMv7PNo73xQ-",
        "outputId": "24367292-02cb-4834-868b-1ba728b81c74"
      },
      "execution_count": 2,
      "outputs": [
        {
          "output_type": "execute_result",
          "data": {
            "text/plain": [
              "'spamspamspam'"
            ],
            "application/vnd.google.colaboratory.intrinsic+json": {
              "type": "string"
            }
          },
          "metadata": {},
          "execution_count": 2
        }
      ]
    },
    {
      "cell_type": "code",
      "source": [
        "'spam'*3"
      ],
      "metadata": {
        "colab": {
          "base_uri": "https://localhost:8080/",
          "height": 35
        },
        "id": "TmuBm3Ez4yYH",
        "outputId": "27f97b1f-8240-4e18-b50d-ac459025a8a9"
      },
      "execution_count": 3,
      "outputs": [
        {
          "output_type": "execute_result",
          "data": {
            "text/plain": [
              "'spamspamspam'"
            ],
            "application/vnd.google.colaboratory.intrinsic+json": {
              "type": "string"
            }
          },
          "metadata": {},
          "execution_count": 3
        }
      ]
    },
    {
      "cell_type": "markdown",
      "source": [
        "**8.Why is eggs a valid variable name while 100 is invalid ?**"
      ],
      "metadata": {
        "id": "ebD42Fsz420C"
      }
    },
    {
      "cell_type": "markdown",
      "source": [
        "Eggs is a valid variable name while 100 is invalid because the variable names must start with a letter or an underscore . It cannot start with a numerical value . We get the below error if we try to use a numerical value as a variable :"
      ],
      "metadata": {
        "id": "xtzM7nUx53Dm"
      }
    },
    {
      "cell_type": "code",
      "source": [
        "100 = 'Pramod'"
      ],
      "metadata": {
        "colab": {
          "base_uri": "https://localhost:8080/",
          "height": 131
        },
        "id": "OZc1TX8V41Dl",
        "outputId": "10df2f74-6f5f-4334-864a-692f4ba7d075"
      },
      "execution_count": 6,
      "outputs": [
        {
          "output_type": "error",
          "ename": "SyntaxError",
          "evalue": "ignored",
          "traceback": [
            "\u001b[0;36m  File \u001b[0;32m\"<ipython-input-6-3235a01cbe43>\"\u001b[0;36m, line \u001b[0;32m1\u001b[0m\n\u001b[0;31m    100 = 'Pramod'\u001b[0m\n\u001b[0m                  ^\u001b[0m\n\u001b[0;31mSyntaxError\u001b[0m\u001b[0;31m:\u001b[0m can't assign to literal\n"
          ]
        }
      ]
    },
    {
      "cell_type": "code",
      "source": [
        "name = 'Pramod'\n",
        "_n = ' Vepada'\n",
        "name+_n"
      ],
      "metadata": {
        "colab": {
          "base_uri": "https://localhost:8080/",
          "height": 35
        },
        "id": "YvOcZOJH5zT0",
        "outputId": "632ad8e1-2959-4fee-95ba-df6eec13ade2"
      },
      "execution_count": 7,
      "outputs": [
        {
          "output_type": "execute_result",
          "data": {
            "text/plain": [
              "'Pramod Vepada'"
            ],
            "application/vnd.google.colaboratory.intrinsic+json": {
              "type": "string"
            }
          },
          "metadata": {},
          "execution_count": 7
        }
      ]
    },
    {
      "cell_type": "markdown",
      "source": [
        "**9. What three functions can be used to get the integer, floating-point number, or string version of a value?**"
      ],
      "metadata": {
        "id": "aHamtlzy7Kcg"
      }
    },
    {
      "cell_type": "markdown",
      "source": [
        "We use int , float and str functions to get the integer, floating-point number, or string version of a value respectively."
      ],
      "metadata": {
        "id": "P_NqtdX67UUF"
      }
    },
    {
      "cell_type": "code",
      "source": [
        "num = 17.7\n",
        "print(int(num),end = \" \")\n",
        "print(float(num),end = \" \")\n",
        "str(num)"
      ],
      "metadata": {
        "colab": {
          "base_uri": "https://localhost:8080/",
          "height": 35
        },
        "id": "WxontGci7BdY",
        "outputId": "dc1f2f55-2cf4-4e21-8136-4841972f79f7"
      },
      "execution_count": 9,
      "outputs": [
        {
          "output_type": "stream",
          "name": "stdout",
          "text": [
            "17 17.7 "
          ]
        },
        {
          "output_type": "execute_result",
          "data": {
            "text/plain": [
              "'17.7'"
            ],
            "application/vnd.google.colaboratory.intrinsic+json": {
              "type": "string"
            }
          },
          "metadata": {},
          "execution_count": 9
        }
      ]
    },
    {
      "cell_type": "markdown",
      "source": [
        "**10. Why does this expression cause an error? How can you fix it?**\n",
        "\n",
        "\n",
        "> 'I have eaten ' + 99 + ' burritos.'"
      ],
      "metadata": {
        "id": "uHClnKc27_Kb"
      }
    },
    {
      "cell_type": "markdown",
      "source": [
        "It will throw an error as we are trying to add string and a numerical value in the above statement . We can fix it by eclosing the numeric value within quotes . "
      ],
      "metadata": {
        "id": "qAZgwDeQ8Ov1"
      }
    },
    {
      "cell_type": "code",
      "source": [
        "\"I have eaten\" + \" 99 \" + \"burritos.\""
      ],
      "metadata": {
        "colab": {
          "base_uri": "https://localhost:8080/",
          "height": 35
        },
        "id": "EZgGDTWc7sL6",
        "outputId": "610cfa2b-74bb-4a2b-92fb-fd937ee885f5"
      },
      "execution_count": 10,
      "outputs": [
        {
          "output_type": "execute_result",
          "data": {
            "text/plain": [
              "'I have eaten 99 burritos.'"
            ],
            "application/vnd.google.colaboratory.intrinsic+json": {
              "type": "string"
            }
          },
          "metadata": {},
          "execution_count": 10
        }
      ]
    },
    {
      "cell_type": "code",
      "source": [],
      "metadata": {
        "id": "g1M1voOl8pZF"
      },
      "execution_count": null,
      "outputs": []
    }
  ]
}